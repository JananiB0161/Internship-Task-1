{
 "cells": [
  {
   "cell_type": "code",
   "execution_count": 5,
   "id": "6f2f1f1c-5af5-4bd7-9456-e2ea7107fdb9",
   "metadata": {},
   "outputs": [
    {
     "name": "stdout",
     "output_type": "stream",
     "text": [
      "Defaulting to user installation because normal site-packages is not writeable\n",
      "Looking in links: /usr/share/pip-wheels\n",
      "Requirement already satisfied: pyspark in ./.local/lib/python3.10/site-packages (3.5.5)\n",
      "Requirement already satisfied: py4j==0.10.9.7 in ./.local/lib/python3.10/site-packages (from pyspark) (0.10.9.7)\n"
     ]
    }
   ],
   "source": [
    "   !pip install pyspark"
   ]
  },
  {
   "cell_type": "code",
   "execution_count": null,
   "id": "47952430-fb72-4462-949f-7980259b7a90",
   "metadata": {},
   "outputs": [
    {
     "name": "stdout",
     "output_type": "stream",
     "text": [
      "Sample of Pixar films:\n"
     ]
    },
    {
     "name": "stderr",
     "output_type": "stream",
     "text": [
      "                                                                                \r"
     ]
    },
    {
     "name": "stdout",
     "output_type": "stream",
     "text": [
      "+--------------+------------+--------------+----------+---------------+-------------------+------------+\n",
      "|         Title|Release_Year|      Director|IMDB_Score|Runtime_Minutes|Box_Office_Millions|Release_Date|\n",
      "+--------------+------------+--------------+----------+---------------+-------------------+------------+\n",
      "|     Toy Story|        1995| John Lasseter|       8.3|             81|              373.6|  1995-11-22|\n",
      "|  A Bug's Life|        1998| John Lasseter|       7.2|             95|              363.3|  1998-11-25|\n",
      "|   Toy Story 2|        1999| John Lasseter|       7.9|             92|              497.4|  1999-11-24|\n",
      "|Monsters, Inc.|        2001|   Pete Docter|       8.1|             92|              577.4|  2001-11-02|\n",
      "|  Finding Nemo|        2003|Andrew Stanton|       8.1|            100|              940.3|  2003-05-30|\n",
      "+--------------+------------+--------------+----------+---------------+-------------------+------------+\n",
      "only showing top 5 rows\n",
      "\n",
      "\n",
      "Dataset schema:\n",
      "root\n",
      " |-- Title: string (nullable = true)\n",
      " |-- Release_Year: integer (nullable = true)\n",
      " |-- Director: string (nullable = true)\n",
      " |-- IMDB_Score: float (nullable = true)\n",
      " |-- Runtime_Minutes: integer (nullable = true)\n",
      " |-- Box_Office_Millions: float (nullable = true)\n",
      " |-- Release_Date: date (nullable = true)\n",
      "\n"
     ]
    },
    {
     "name": "stderr",
     "output_type": "stream",
     "text": [
      "[Stage 1:============================================>              (3 + 1) / 4]\r"
     ]
    }
   ],
   "source": [
    "from pyspark.sql import SparkSession\n",
    "from pyspark.sql.types import StructType, StructField, StringType, IntegerType, FloatType, DateType\n",
    "import datetime\n",
    "\n",
    "# Create a Spark session\n",
    "spark = SparkSession.builder \\\n",
    "    .appName(\"PixarFilmAnalysis\") \\\n",
    "    .getOrCreate()\n",
    "\n",
    "# Define the schema for our Pixar films dataset\n",
    "schema = StructType([\n",
    "    StructField(\"Title\", StringType(), True),\n",
    "    StructField(\"Release_Year\", IntegerType(), True),\n",
    "    StructField(\"Director\", StringType(), True),\n",
    "    StructField(\"IMDB_Score\", FloatType(), True),\n",
    "    StructField(\"Runtime_Minutes\", IntegerType(), True),\n",
    "    StructField(\"Box_Office_Millions\", FloatType(), True),\n",
    "    StructField(\"Release_Date\", DateType(), True)\n",
    "])\n",
    "\n",
    "# Create sample data\n",
    "data = [\n",
    "    (\"Toy Story\", 1995, \"John Lasseter\", 8.3, 81, 373.6, datetime.date(1995, 11, 22)),\n",
    "    (\"A Bug's Life\", 1998, \"John Lasseter\", 7.2, 95, 363.3, datetime.date(1998, 11, 25)),\n",
    "    (\"Toy Story 2\", 1999, \"John Lasseter\", 7.9, 92, 497.4, datetime.date(1999, 11, 24)),\n",
    "    (\"Monsters, Inc.\", 2001, \"Pete Docter\", 8.1, 92, 577.4, datetime.date(2001, 11, 2)),\n",
    "    (\"Finding Nemo\", 2003, \"Andrew Stanton\", 8.1, 100, 940.3, datetime.date(2003, 5, 30)),\n",
    "    (\"The Incredibles\", 2004, \"Brad Bird\", 8.0, 115, 631.4, datetime.date(2004, 11, 5)),\n",
    "    (\"Cars\", 2006, \"John Lasseter\", 7.1, 117, 462.2, datetime.date(2006, 6, 9)),\n",
    "    (\"Ratatouille\", 2007, \"Brad Bird\", 8.0, 111, 623.7, datetime.date(2007, 6, 29)),\n",
    "    (\"WALL-E\", 2008, \"Andrew Stanton\", 8.4, 98, 521.3, datetime.date(2008, 6, 27)),\n",
    "    (\"Up\", 2009, \"Pete Docter\", 8.2, 96, 735.1, datetime.date(2009, 5, 29)),\n",
    "    (\"Toy Story 3\", 2010, \"Lee Unkrich\", 8.3, 103, 1067.0, datetime.date(2010, 6, 18)),\n",
    "    (\"Cars 2\", 2011, \"John Lasseter\", 6.1, 106, 559.9, datetime.date(2011, 6, 24)),\n",
    "    (\"Brave\", 2012, \"Mark Andrews\", 7.1, 93, 538.8, datetime.date(2012, 6, 22)),\n",
    "    (\"Monsters University\", 2013, \"Dan Scanlon\", 7.3, 104, 743.6, datetime.date(2013, 6, 21)),\n",
    "    (\"Inside Out\", 2015, \"Pete Docter\", 8.2, 95, 858.8, datetime.date(2015, 6, 19)),\n",
    "    (\"The Good Dinosaur\", 2015, \"Peter Sohn\", 6.7, 93, 332.2, datetime.date(2015, 11, 25)),\n",
    "    (\"Finding Dory\", 2016, \"Andrew Stanton\", 7.3, 97, 1028.6, datetime.date(2016, 6, 17)),\n",
    "    (\"Cars 3\", 2017, \"Brian Fee\", 6.7, 102, 383.9, datetime.date(2017, 6, 16)),\n",
    "    (\"Coco\", 2017, \"Lee Unkrich\", 8.4, 105, 807.1, datetime.date(2017, 11, 22)),\n",
    "    (\"Incredibles 2\", 2018, \"Brad Bird\", 7.6, 118, 1242.8, datetime.date(2018, 6, 15)),\n",
    "    (\"Toy Story 4\", 2019, \"Josh Cooley\", 7.7, 100, 1073.4, datetime.date(2019, 6, 21)),\n",
    "    (\"Onward\", 2020, \"Dan Scanlon\", 7.4, 102, 141.9, datetime.date(2020, 3, 6)),\n",
    "    (\"Soul\", 2020, \"Pete Docter\", 8.1, 100, 121.0, datetime.date(2020, 12, 25)),\n",
    "    (\"Luca\", 2021, \"Enrico Casarosa\", 7.5, 95, 49.8, datetime.date(2021, 6, 18)),\n",
    "    (\"Turning Red\", 2022, \"Domee Shi\", 7.0, 100, 20.1, datetime.date(2022, 3, 11)),\n",
    "    (\"Lightyear\", 2022, \"Angus MacLane\", 6.1, 105, 226.4, datetime.date(2022, 6, 17)),\n",
    "    (\"Elemental\", 2023, \"Peter Sohn\", 7.0, 109, 496.0, datetime.date(2023, 6, 16))\n",
    "]\n",
    "\n",
    "# Create DataFrame\n",
    "df = spark.createDataFrame(data, schema)\n",
    "\n",
    "# Show the first few rows\n",
    "print(\"Sample of Pixar films:\")\n",
    "df.show(5)\n",
    "\n",
    "# See the structure of the data\n",
    "print(\"\\nDataset schema:\")\n",
    "df.printSchema()\n",
    "\n",
    "# Count how many movies are there\n",
    "print(\"\\nTotal number of films:\", df.count())\n",
    "\n",
    "# Find average IMDB rating\n",
    "from pyspark.sql.functions import avg, round\n",
    "avg_rating = df.select(round(avg(\"IMDB_Score\"), 2).alias(\"Average IMDB Rating\")).collect()[0][0]\n",
    "print(f\"\\nAverage IMDB Rating: {avg_rating}\")\n",
    "\n",
    "# Group by IMDB Score (rounded) and count\n",
    "print(\"\\nFilms grouped by IMDB Score (rounded):\")\n",
    "from pyspark.sql.functions import round\n",
    "df.groupBy(round(\"IMDB_Score\").alias(\"IMDB_Score_Rounded\")).count().orderBy(\"IMDB_Score_Rounded\").show()\n",
    "\n",
    "# Films by director\n",
    "print(\"\\nNumber of films by director:\")\n",
    "df.groupBy(\"Director\").count().orderBy(\"count\", ascending=False).show()\n",
    "\n",
    "# Box office performance over time\n",
    "print(\"\\nAverage box office by year:\")\n",
    "df.groupBy(\"Release_Year\").agg(round(avg(\"Box_Office_Millions\"), 2).alias(\"Avg_Box_Office_Millions\")) \\\n",
    "  .orderBy(\"Release_Year\").show(30)"
   ]
  },
  {
   "cell_type": "code",
   "execution_count": null,
   "id": "f8d2b438-31ce-451c-b09d-0bbc1277fd33",
   "metadata": {},
   "outputs": [],
   "source": []
  }
 ],
 "metadata": {
  "kernelspec": {
   "display_name": "anaconda-2024.02-py310",
   "language": "python",
   "name": "conda-env-anaconda-2024.02-py310-py"
  },
  "language_info": {
   "codemirror_mode": {
    "name": "ipython",
    "version": 3
   },
   "file_extension": ".py",
   "mimetype": "text/x-python",
   "name": "python",
   "nbconvert_exporter": "python",
   "pygments_lexer": "ipython3",
   "version": "3.10.14"
  }
 },
 "nbformat": 4,
 "nbformat_minor": 5
}
